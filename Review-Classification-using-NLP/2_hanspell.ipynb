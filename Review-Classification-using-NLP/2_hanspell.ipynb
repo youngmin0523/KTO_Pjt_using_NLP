{
 "cells": [
  {
   "cell_type": "markdown",
   "id": "ec8e7163",
   "metadata": {},
   "source": [
    "## hanspell 이용 맞춤법 띄어쓰기 수정"
   ]
  },
  {
   "cell_type": "code",
   "execution_count": null,
   "id": "bc82ba14",
   "metadata": {},
   "outputs": [],
   "source": [
    "!pip install git+https://github.com//ssut/py-hanspell.git\n",
    "    \n",
    "from hanspell import spell_checker\n",
    "import pandas as pd\n",
    "\n",
    "df = pd.read_csv('data/review_result.csv')\n",
    "\n",
    "review_li = df['review']\n",
    "\n",
    "\n",
    "i=1\n",
    "re_review = []\n",
    "for review in review_li:\n",
    "    print(review)\n",
    "    print('-->')\n",
    "    try:\n",
    "        spelled_sent = spell_checker.check(review)\n",
    "        hanspell_sent = spelled_sent.checked\n",
    "    except:\n",
    "        print(' ')\n",
    "    else:\n",
    "        hanspell_sent=review\n",
    "    print(hanspell_sent)\n",
    "    print(i)\n",
    "    i+=1\n",
    "    print('=====================================================================')\n",
    "    re_review.append(hanspell_sent)\n",
    "    \n",
    "    \n",
    "df['re_review']=re_review\n",
    "df.to_excel('py_hanspell.xlsx',index=False, encoding=\"utf-8\")"
   ]
  }
 ],
 "metadata": {
  "kernelspec": {
   "display_name": "Python 3",
   "language": "python",
   "name": "python3"
  },
  "language_info": {
   "codemirror_mode": {
    "name": "ipython",
    "version": 3
   },
   "file_extension": ".py",
   "mimetype": "text/x-python",
   "name": "python",
   "nbconvert_exporter": "python",
   "pygments_lexer": "ipython3",
   "version": "3.8.8"
  }
 },
 "nbformat": 4,
 "nbformat_minor": 5
}
