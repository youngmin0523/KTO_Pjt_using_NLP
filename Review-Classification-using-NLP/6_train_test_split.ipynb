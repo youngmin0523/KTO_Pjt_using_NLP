{
 "cells": [
  {
   "cell_type": "code",
   "execution_count": 1,
   "id": "6571b512",
   "metadata": {},
   "outputs": [],
   "source": [
    "from sklearn.model_selection import train_test_split\n",
    "import pandas as pd"
   ]
  },
  {
   "cell_type": "markdown",
   "id": "743dd15b",
   "metadata": {},
   "source": [
    "## 데이터 불러오기"
   ]
  },
  {
   "cell_type": "code",
   "execution_count": 2,
   "id": "62ad60d0",
   "metadata": {},
   "outputs": [],
   "source": [
    "df = pd.read_csv('data/PNlabeled_review.csv', encoding='utf-8')"
   ]
  },
  {
   "cell_type": "markdown",
   "id": "dd3f78e8",
   "metadata": {},
   "source": [
    "## train, test 분리하기"
   ]
  },
  {
   "cell_type": "code",
   "execution_count": 3,
   "id": "cbf9206f",
   "metadata": {},
   "outputs": [],
   "source": [
    "train_set,test_set  = train_test_split(df, test_size=0.25, random_state=42)"
   ]
  },
  {
   "cell_type": "code",
   "execution_count": 4,
   "id": "23ecb5f6",
   "metadata": {},
   "outputs": [
    {
     "data": {
      "text/html": [
       "<div>\n",
       "<style scoped>\n",
       "    .dataframe tbody tr th:only-of-type {\n",
       "        vertical-align: middle;\n",
       "    }\n",
       "\n",
       "    .dataframe tbody tr th {\n",
       "        vertical-align: top;\n",
       "    }\n",
       "\n",
       "    .dataframe thead th {\n",
       "        text-align: right;\n",
       "    }\n",
       "</style>\n",
       "<table border=\"1\" class=\"dataframe\">\n",
       "  <thead>\n",
       "    <tr style=\"text-align: right;\">\n",
       "      <th></th>\n",
       "      <th>review</th>\n",
       "      <th>is_pos</th>\n",
       "    </tr>\n",
       "  </thead>\n",
       "  <tbody>\n",
       "    <tr>\n",
       "      <th>62221</th>\n",
       "      <td>깨끗하고 친절하고 가성비 갑 담에 강릉가면 또 예약하고 싶어요조식도 정말 맛있었음 ...</td>\n",
       "      <td>1</td>\n",
       "    </tr>\n",
       "    <tr>\n",
       "      <th>6411</th>\n",
       "      <td>시설이 깨끗하고 쾌적해요ㅎㅎ</td>\n",
       "      <td>1</td>\n",
       "    </tr>\n",
       "    <tr>\n",
       "      <th>1581</th>\n",
       "      <td>항상 직원분들도 친절하시고 룸 컨디션도 너무 좋고히터도 빵빵하게 나와서 너무 좋습니...</td>\n",
       "      <td>1</td>\n",
       "    </tr>\n",
       "    <tr>\n",
       "      <th>8260</th>\n",
       "      <td>한옥이라 방음부분이 조금 아쉬웠지만 황리단길 바로 앞인것도 맘에들고 추천합니다!!</td>\n",
       "      <td>1</td>\n",
       "    </tr>\n",
       "    <tr>\n",
       "      <th>25803</th>\n",
       "      <td>저녁에  일할 업무가있어서 작업 가능한곳 찾다가 알게된\\n호텔입니다.  내부가 깨끗...</td>\n",
       "      <td>1</td>\n",
       "    </tr>\n",
       "    <tr>\n",
       "      <th>...</th>\n",
       "      <td>...</td>\n",
       "      <td>...</td>\n",
       "    </tr>\n",
       "    <tr>\n",
       "      <th>67997</th>\n",
       "      <td>실내가 많이 청결해서 좋았습니다 여름에 리프팅하는 재미가 있어서 좋았습니다 ㅎㅎ</td>\n",
       "      <td>1</td>\n",
       "    </tr>\n",
       "    <tr>\n",
       "      <th>48674</th>\n",
       "      <td>즐거웠어요 다음에 또오고싶네요</td>\n",
       "      <td>1</td>\n",
       "    </tr>\n",
       "    <tr>\n",
       "      <th>27229</th>\n",
       "      <td>깔끔하고 위치가 좋아요</td>\n",
       "      <td>1</td>\n",
       "    </tr>\n",
       "    <tr>\n",
       "      <th>27038</th>\n",
       "      <td>주차타워에 스스로 넣어야 하는것 빼고는 다좋았습니다~</td>\n",
       "      <td>1</td>\n",
       "    </tr>\n",
       "    <tr>\n",
       "      <th>21081</th>\n",
       "      <td>자주 이용하는 곳입니다.</td>\n",
       "      <td>1</td>\n",
       "    </tr>\n",
       "  </tbody>\n",
       "</table>\n",
       "<p>20501 rows × 2 columns</p>\n",
       "</div>"
      ],
      "text/plain": [
       "                                                  review  is_pos\n",
       "62221  깨끗하고 친절하고 가성비 갑 담에 강릉가면 또 예약하고 싶어요조식도 정말 맛있었음 ...       1\n",
       "6411                                     시설이 깨끗하고 쾌적해요ㅎㅎ       1\n",
       "1581   항상 직원분들도 친절하시고 룸 컨디션도 너무 좋고히터도 빵빵하게 나와서 너무 좋습니...       1\n",
       "8260       한옥이라 방음부분이 조금 아쉬웠지만 황리단길 바로 앞인것도 맘에들고 추천합니다!!       1\n",
       "25803  저녁에  일할 업무가있어서 작업 가능한곳 찾다가 알게된\\n호텔입니다.  내부가 깨끗...       1\n",
       "...                                                  ...     ...\n",
       "67997       실내가 많이 청결해서 좋았습니다 여름에 리프팅하는 재미가 있어서 좋았습니다 ㅎㅎ       1\n",
       "48674                                   즐거웠어요 다음에 또오고싶네요       1\n",
       "27229                                       깔끔하고 위치가 좋아요       1\n",
       "27038                      주차타워에 스스로 넣어야 하는것 빼고는 다좋았습니다~       1\n",
       "21081                                      자주 이용하는 곳입니다.       1\n",
       "\n",
       "[20501 rows x 2 columns]"
      ]
     },
     "execution_count": 4,
     "metadata": {},
     "output_type": "execute_result"
    }
   ],
   "source": [
    "test_set[test_set['is_pos']==1]"
   ]
  },
  {
   "cell_type": "markdown",
   "id": "73fd3f4d",
   "metadata": {},
   "source": [
    "## 데이터 저장하기"
   ]
  },
  {
   "cell_type": "code",
   "execution_count": 5,
   "id": "20de2324",
   "metadata": {},
   "outputs": [],
   "source": [
    "train_set.to_csv('data/PNtrain_set.csv', index=None, encoding='utf-8')"
   ]
  },
  {
   "cell_type": "code",
   "execution_count": 6,
   "id": "425e377a",
   "metadata": {},
   "outputs": [],
   "source": [
    "test_set.to_csv('data/PNtest_set.csv', index=None, encoding='utf-8')"
   ]
  },
  {
   "cell_type": "code",
   "execution_count": null,
   "id": "d4abb0dc",
   "metadata": {},
   "outputs": [],
   "source": []
  }
 ],
 "metadata": {
  "kernelspec": {
   "display_name": "Python 3",
   "language": "python",
   "name": "python3"
  },
  "language_info": {
   "codemirror_mode": {
    "name": "ipython",
    "version": 3
   },
   "file_extension": ".py",
   "mimetype": "text/x-python",
   "name": "python",
   "nbconvert_exporter": "python",
   "pygments_lexer": "ipython3",
   "version": "3.8.8"
  }
 },
 "nbformat": 4,
 "nbformat_minor": 5
}
