{
  "nbformat": 4,
  "nbformat_minor": 0,
  "metadata": {
    "colab": {
      "name": "CNNClassifier.ipynb",
      "provenance": [],
      "collapsed_sections": []
    },
    "kernelspec": {
      "name": "python3",
      "display_name": "Python 3"
    },
    "language_info": {
      "name": "python"
    }
  },
  "cells": [
    {
      "cell_type": "code",
      "metadata": {
        "id": "B-zBk2rK_HBl"
      },
      "source": [
        "import tensorflow as tf\n",
        "from tensorflow.keras.preprocessing.sequence import pad_sequences\n",
        "from tensorflow.keras.callbacks import EarlyStopping, ModelCheckpoint\n",
        "from tensorflow.keras import layers\n",
        "\n",
        "import numpy as np\n",
        "import pandas as pd\n",
        "import matplotlib.pyplot as plt\n",
        "import os\n",
        "import json\n",
        "\n",
        "from tqdm import tqdm"
      ],
      "execution_count": 1,
      "outputs": []
    },
    {
      "cell_type": "markdown",
      "metadata": {
        "id": "9_PYQF0xAJ6N"
      },
      "source": [
        "## 전처리한 데이터 불러오기"
      ]
    },
    {
      "cell_type": "code",
      "metadata": {
        "id": "I2UaCU7d_IrW"
      },
      "source": [
        "DATA_PATH = '/content/drive/MyDrive/KTO_Project/data/'\n",
        "INPUT_TRAIN_DATA = 'nsmc_train_input.npy'\n",
        "LABEL_TRAIN_DATA = 'nsmc_train_label.npy'\n",
        "DATA_CONFIGS = 'data_configs.json'\n",
        "\n",
        "train_input = np.load(open(DATA_PATH + INPUT_TRAIN_DATA, 'rb'))\n",
        "train_input = pad_sequences(train_input, maxlen=train_input.shape[1])\n",
        "train_label = np.load(open(DATA_PATH + LABEL_TRAIN_DATA, 'rb'))\n",
        "prepro_configs = json.load(open(DATA_PATH + DATA_CONFIGS, 'r'))"
      ],
      "execution_count": 2,
      "outputs": []
    },
    {
      "cell_type": "markdown",
      "metadata": {
        "id": "b7SOUgS8APIl"
      },
      "source": [
        "## 하이퍼파라미터 정의"
      ]
    },
    {
      "cell_type": "code",
      "metadata": {
        "id": "W9-GexFG_ViM"
      },
      "source": [
        "model_name = 'cnn_classifier'\n",
        "BATCH_SIZE = 512\n",
        "NUM_EPOCHS = 2\n",
        "VALID_SPLIT = 0.1\n",
        "MAX_LEN = train_input.shape[1]\n",
        "\n",
        "kargs = {'model_name': model_name,\n",
        "         'vocab_size': prepro_configs['vocab_size'],\n",
        "         'embedding_size': 128,\n",
        "         'num_filters': 100,\n",
        "         'dropout_rate': 0.5,\n",
        "         'hidden_dimension': 250,\n",
        "         'output_dimension':1}"
      ],
      "execution_count": 3,
      "outputs": []
    },
    {
      "cell_type": "markdown",
      "metadata": {
        "id": "GKVLNECXAVBO"
      },
      "source": [
        "## 모델 함수 구현"
      ]
    },
    {
      "cell_type": "code",
      "metadata": {
        "id": "hvPFUxEh_a_0"
      },
      "source": [
        "class CNNClassifier(tf.keras.Model):\n",
        "\n",
        "  def __init__(self, **kargs):\n",
        "    super(CNNClassifier, self).__init__(name=kargs['model_name'])\n",
        "    self.embedding = layers.Embedding(input_dim=kargs['vocab_size'],\n",
        "                                      output_dim=kargs['embedding_size'])\n",
        "    self.conv_list = [layers.Conv1D(filters=kargs['num_filters'],\n",
        "                                    kernel_size=kernel_size,\n",
        "                                    padding='valid',\n",
        "                                    activation=tf.keras.activations.relu,\n",
        "kernel_constraint=tf.keras.constraints.MaxNorm(max_value=3.))\n",
        "                    for kernel_size in [3,4,5]]\n",
        "    \n",
        "    self.pooling = layers.GlobalMaxPooling1D()\n",
        "    self.dropout = layers.Dropout(kargs['dropout_rate'])\n",
        "    self.fc1 = layers.Dense(units=kargs['hidden_dimension'],\n",
        "                           activation=tf.keras.activations.relu,\n",
        "                           kernel_constraint=tf.keras.constraints.MaxNorm(max_value=3.))\n",
        "    self.fc2 = layers.Dense(units=kargs['output_dimension'],\n",
        "                            activation=tf.keras.activations.sigmoid,\n",
        "                            kernel_constraint=tf.keras.constraints.MaxNorm(max_value=3.))\n",
        "    \n",
        "  def call(self, x):\n",
        "    x = self.embedding(x)\n",
        "    x = self.dropout(x)\n",
        "    x = tf.concat([self.pooling(conv(x)) for conv in self.conv_list], axis=1)\n",
        "    x = self.fc1(x)\n",
        "    x = self.fc2(x)\n",
        "\n",
        "    return x"
      ],
      "execution_count": 4,
      "outputs": []
    },
    {
      "cell_type": "markdown",
      "metadata": {
        "id": "ud-Sg7Z_B9Pi"
      },
      "source": [
        "## 모델 생성"
      ]
    },
    {
      "cell_type": "code",
      "metadata": {
        "id": "8FNdwIZxB7Kp"
      },
      "source": [
        "model = CNNClassifier(**kargs)\n",
        "\n",
        "model.compile(optimizer=tf.keras.optimizers.Adam(),\n",
        "              loss=tf.keras.losses.BinaryCrossentropy(),\n",
        "              metrics=[tf.keras.metrics.Precision(name='precision')\\\n",
        "                          ,tf.keras.metrics.Recall(name='recall')\\\n",
        "                          ,tf.keras.metrics.FalsePositives(name='false_positives')\\\n",
        "                          ,tf.keras.metrics.FalseNegatives(name='false_negatives')])"
      ],
      "execution_count": 5,
      "outputs": []
    },
    {
      "cell_type": "markdown",
      "metadata": {
        "id": "ffyUC6osO0Kw"
      },
      "source": [
        "## 모델 학습"
      ]
    },
    {
      "cell_type": "code",
      "metadata": {
        "colab": {
          "base_uri": "https://localhost:8080/"
        },
        "id": "c_pTORT1EOzf",
        "outputId": "20c9ea9a-f8a8-414c-f0b9-603b9dddf869"
      },
      "source": [
        "earlystop_callback = EarlyStopping(monitor='val_accuracy', min_delta=0.0001, patience=2)\n",
        "\n",
        "checkpoint_path = DATA_PATH + '/weights.h5'\n",
        "checkpoint_dir = os.path.dirname(checkpoint_path)\n",
        "\n",
        "if os.path.exists(checkpoint_dir):\n",
        "  print(\"{} -- Foler already exists \\n\".format(checkpoint_dir))\n",
        "else:\n",
        "  os.makedirs(checkpoint_dir, exist_ok=True)\n",
        "  print(\"{} -- Folder create complete \\n\".format(checkpoint_dir))\n",
        "\n",
        "cp_callback = ModelCheckpoint(\n",
        "    checkpoint_path, monitor='val_accuracy', verbose=1, save_best_only=True, svae_weights_only=True)\n",
        "\n",
        "history = model.fit(train_input, train_label, batch_size=BATCH_SIZE, epochs=NUM_EPOCHS, validation_split=VALID_SPLIT)\n",
        "\n",
        "SAVE_FILE_NM = 'weights.h5'\n",
        "model.save_weights(os.path.join(DATA_PATH, SAVE_FILE_NM))"
      ],
      "execution_count": 6,
      "outputs": [
        {
          "output_type": "stream",
          "text": [
            "/content/drive/MyDrive/KTO_Project/data -- Foler already exists \n",
            "\n",
            "Epoch 1/2\n",
            "112/112 [==============================] - 26s 206ms/step - loss: 0.1511 - precision: 0.9633 - recall: 0.9910 - false_positives: 2082.0000 - false_negatives: 494.0000 - val_loss: 0.1004 - val_precision: 0.9644 - val_recall: 1.0000 - val_false_positives: 226.0000 - val_false_negatives: 0.0000e+00\n",
            "Epoch 2/2\n",
            "112/112 [==============================] - 23s 202ms/step - loss: 0.0789 - precision: 0.9772 - recall: 0.9949 - false_positives: 1279.0000 - false_negatives: 279.0000 - val_loss: 0.0786 - val_precision: 0.9797 - val_recall: 0.9940 - val_false_positives: 126.0000 - val_false_negatives: 37.0000\n"
          ],
          "name": "stdout"
        }
      ]
    },
    {
      "cell_type": "markdown",
      "metadata": {
        "id": "InBhyPF9cEGy"
      },
      "source": [
        "## 모델 테스트"
      ]
    },
    {
      "cell_type": "code",
      "metadata": {
        "id": "fFbC_iupJtrf"
      },
      "source": [
        "INPUT_TEST_DATA = 'nsmc_test_input.npy'\n",
        "LABEL_TEST_DATA = 'nsmc_test_label.npy'\n",
        "SAVE_FILE_NM = 'weights.h5'\n",
        "\n",
        "test_input = np.load(open(DATA_PATH + INPUT_TEST_DATA, 'rb'))\n",
        "test_input = pad_sequences(test_input, maxlen=test_input.shape[1])\n",
        "test_label_data = np.load(open(DATA_PATH + LABEL_TEST_DATA, 'rb'))"
      ],
      "execution_count": 7,
      "outputs": []
    },
    {
      "cell_type": "code",
      "metadata": {
        "colab": {
          "base_uri": "https://localhost:8080/"
        },
        "id": "G9NUkTXDaRA5",
        "outputId": "9d778d87-9399-4d60-9e7a-9a10e5a1fdcd"
      },
      "source": [
        "model.load_weights(os.path.join(DATA_PATH, SAVE_FILE_NM))\n",
        "model.evaluate(test_input, test_label_data)"
      ],
      "execution_count": 8,
      "outputs": [
        {
          "output_type": "stream",
          "text": [
            "663/663 [==============================] - 3s 5ms/step - loss: 0.0811 - precision: 0.9800 - recall: 0.9917 - false_positives: 413.0000 - false_negatives: 169.0000\n"
          ],
          "name": "stdout"
        },
        {
          "output_type": "execute_result",
          "data": {
            "text/plain": [
              "[0.08105019479990005, 0.9800183773040771, 0.9917258024215698, 413.0, 169.0]"
            ]
          },
          "metadata": {},
          "execution_count": 8
        }
      ]
    },
    {
      "cell_type": "code",
      "metadata": {
        "id": "Fk0EAUvkqGEp"
      },
      "source": [
        ""
      ],
      "execution_count": 8,
      "outputs": []
    }
  ]
}